{
 "cells": [
  {
   "cell_type": "code",
   "execution_count": null,
   "id": "0b343555",
   "metadata": {},
   "outputs": [],
   "source": [
    "import pandas as pd\n",
    "import numpy as np\n",
    "import seaborn as sns\n",
    "import matplotlib.pyplot as plt\n",
    "import warnings\n",
    "warnings.filterwarnings('ignore')\n",
    "\n",
    "# Cargar datos\n",
    "df = pd.read_csv('../data/raw/WA_Fn-UseC_-Telco-Customer-Churn.csv')\n",
    "\n",
    "# Mostrar información básica\n",
    "print(\"Forma del dataset:\", df.shape)\n",
    "print(\"\\nPrimeras 5 filas:\")\n",
    "df.head()"
   ]
  },
  {
   "cell_type": "code",
   "execution_count": null,
   "id": "9c906b64",
   "metadata": {},
   "outputs": [],
   "source": [
    "# Reemplazar espacios vacíos en 'TotalCharges' por NaN y convertir a numérico\n",
    "df['TotalCharges'] = pd.to_numeric(df['TotalCharges'], errors='coerce')\n",
    "\n",
    "# Verificar valores nulos\n",
    "print(\"Valores nulos por columna:\")\n",
    "print(df.isnull().sum())\n",
    "\n",
    "# Imputar TotalCharges con 0 (es razonable: clientes nuevos con 0 cargos totales)\n",
    "df['TotalCharges'].fillna(0, inplace=True)\n",
    "\n",
    "# Verificar tipos de datos\n",
    "print(\"\\nTipos de datos:\")\n",
    "print(df.dtypes)"
   ]
  },
  {
   "cell_type": "code",
   "execution_count": null,
   "id": "2207bc95",
   "metadata": {},
   "outputs": [],
   "source": [
    "# Distribución de Churn\n",
    "plt.figure(figsize=(6, 4))\n",
    "sns.countplot(data=df, x='Churn')\n",
    "plt.title('Distribución de Churn')\n",
    "plt.show()\n",
    "\n",
    "# Porcentajes\n",
    "churn_counts = df['Churn'].value_counts(normalize=True) * 100\n",
    "print(\"Porcentaje de Churn:\")\n",
    "print(churn_counts)"
   ]
  },
  {
   "cell_type": "code",
   "execution_count": null,
   "id": "54e719b2",
   "metadata": {},
   "outputs": [],
   "source": [
    "# Variables numéricas\n",
    "numeric_cols = ['tenure', 'MonthlyCharges', 'TotalCharges']\n",
    "\n",
    "plt.figure(figsize=(15, 5))\n",
    "for i, col in enumerate(numeric_cols, 1):\n",
    "    plt.subplot(1, 3, i)\n",
    "    sns.histplot(df[col], kde=True)\n",
    "    plt.title(f'Distribución de {col}')\n",
    "plt.tight_layout()\n",
    "plt.show()\n",
    "\n",
    "# Boxplots por Churn\n",
    "plt.figure(figsize=(15, 5))\n",
    "for i, col in enumerate(numeric_cols, 1):\n",
    "    plt.subplot(1, 3, i)\n",
    "    sns.boxplot(data=df, x='Churn', y=col)\n",
    "    plt.title(f'{col} vs Churn')\n",
    "plt.tight_layout()\n",
    "plt.show()"
   ]
  },
  {
   "cell_type": "code",
   "execution_count": null,
   "id": "27a0d25e",
   "metadata": {},
   "outputs": [],
   "source": [
    "# Variables categóricas importantes\n",
    "cat_cols = ['Contract', 'InternetService', 'PaymentMethod', 'SeniorCitizen', 'Partner']\n",
    "\n",
    "plt.figure(figsize=(18, 10))\n",
    "for i, col in enumerate(cat_cols, 1):\n",
    "    plt.subplot(2, 3, i)\n",
    "    sns.countplot(data=df, x=col, hue='Churn')\n",
    "    plt.xticks(rotation=45)\n",
    "    plt.title(f'Churn por {col}')\n",
    "plt.tight_layout()\n",
    "plt.show()"
   ]
  },
  {
   "cell_type": "code",
   "execution_count": null,
   "id": "7d06f7a6",
   "metadata": {},
   "outputs": [],
   "source": [
    "# Correlación entre numéricas\n",
    "corr = df[numeric_cols].corr()\n",
    "plt.figure(figsize=(8, 6))\n",
    "sns.heatmap(corr, annot=True, cmap='coolwarm', center=0)\n",
    "plt.title('Matriz de Correlación (Variables Numéricas)')\n",
    "plt.show()"
   ]
  }
 ],
 "metadata": {
  "kernelspec": {
   "display_name": "tf_env",
   "language": "python",
   "name": "python3"
  },
  "language_info": {
   "name": "python",
   "version": "3.10.13"
  }
 },
 "nbformat": 4,
 "nbformat_minor": 5
}
