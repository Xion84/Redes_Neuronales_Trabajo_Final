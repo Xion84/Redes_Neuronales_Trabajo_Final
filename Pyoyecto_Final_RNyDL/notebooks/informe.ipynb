{
 "cells": [
  {
   "cell_type": "markdown",
   "id": "6d906e5b",
   "metadata": {},
   "source": [
    "# **Informe Final: Predicción de Churn con Redes Neuronales Artificiales**\n",
    "\n",
    "### **Maestría en Inteligencia de Negocios y Análisis de Datos**\n",
    "#### Redes Neuronales y Deep Learning  \n",
    "**Autores:** Hubert Gutiérrez, Danilo Matus, Enllely Roque  \n",
    "**Fecha:** 30 de agosto de 2025  \n",
    "\n",
    "> *\"Este proyecto fue desarrollado bajo la supervisión del estudiante. Se utilizó una herramienta de inteligencia artificial generativa (LLM) para asistir en la redacción, estructura del código y explicaciones técnicas. Todas las decisiones de modelado, análisis de resultados y validación fueron realizadas y verificadas por el autor.\"*\n",
    "\n",
    "🔗 **Repositorio GitHub**: [https://github.com/Xion84/Redes_Neuronales_Trabajo_Final](https://github.com/Xion84/Redes_Neuronales_Trabajo_Final)\n",
    "\n",
    "🌐 **API en Producción**: [https://churn-prediction-api.onrender.com](https://churn-prediction-api.onrender.com)"
   ]
  },
  {
   "cell_type": "markdown",
   "id": "6e80f98a",
   "metadata": {},
   "source": [
    "## 📚 Índice\n",
    "1. [Introducción](#introduccion)  \n",
    "2. [Objetivos](#objetivos)  \n",
    "3. [Antecedentes o Estado del Arte](#antecedentes)  \n",
    "4. [Descripción de los Datos](#datos)  \n",
    "5. [Metodología](#metodologia)  \n",
    "6. [Resultados y Discusión](#resultados)  \n",
    "7. [Conclusiones](#conclusiones)  \n",
    "8. [Bibliografía](#bibliografia)  \n",
    "9. [Anexos](#anexos)  "
   ]
  },
  {
   "cell_type": "code",
   "execution_count": null,
   "id": "066511de",
   "metadata": {},
   "outputs": [],
   "source": [
    "<a id=\"introduccion\"></a>\n",
    "## 1. Introducción\n",
    "\n",
    "El abandono de clientes (churn) es un desafío crítico en la industria de telecomunicaciones. Predecir con precisión quién se irá permite a las empresas actuar proactivamente.\n",
    "\n",
    "En este proyecto, utilizamos **Redes Neuronales Artificiales (MLP)** para predecir el churn usando el conjunto de datos **Telco Customer Churn**. Aplicamos un enfoque riguroso de preprocesamiento, entrenamiento, evaluación y validación cruzada, siguiendo las buenas prácticas del Dr. Vladimir Gutiérrez.\n",
    "\n",
    "El modelo final fue desplegado en la nube mediante una API con Flask, demostrando su **puesta en producción práctica y validada**."
   ]
  },
  {
   "cell_type": "code",
   "execution_count": null,
   "id": "5256d923",
   "metadata": {},
   "outputs": [],
   "source": [
    "<a id=\"objetivos\"></a>\n",
    "## 2. Objetivos\n",
    "\n",
    "### **Objetivo General**\n",
    "Desarrollar un modelo de red neuronal para predecir el churn de clientes y evaluar su desempeño en el conjunto de prueba.\n",
    "\n",
    "### **Objetivos Específicos**\n",
    "- Preprocesar y analizar exploratoriamente el conjunto de datos.\n",
    "- Entrenar 5 arquitecturas de MLP con diferentes hiperparámetros.\n",
    "- Evaluar con al menos 5 métricas estadísticas en TEST.\n",
    "- Comparar con un modelo base (Regresión Logística).\n",
    "- Validar con K-Fold.\n",
    "- Desplegar el modelo en producción (API en Render)."
   ]
  },
  {
   "cell_type": "code",
   "execution_count": null,
   "id": "3dd66ad0",
   "metadata": {},
   "outputs": [],
   "source": [
    "<a id=\"antecedentes\"></a>\n",
    "## 3. Antecedentes o Estado del Arte\n",
    "\n",
    "Las redes neuronales han demostrado superioridad frente a modelos lineales en problemas de churn (Kumar et al., 2020). Chollet (2021) destaca que el deep learning permite modelar relaciones no lineales complejas.\n",
    "\n",
    "Este proyecto se alinea con dichas investigaciones, utilizando un enfoque experimental riguroso con validación estadística."
   ]
  },
  {
   "cell_type": "code",
   "execution_count": null,
   "id": "212509b0",
   "metadata": {},
   "outputs": [],
   "source": [
    "#Descripción de los datos\n",
    "#%%\n",
    "# Cargar datos\n",
    "import pandas as pd\n",
    "import numpy as np\n",
    "import matplotlib.pyplot as plt\n",
    "import seaborn as sns\n",
    "\n",
    "df = pd.read_csv('../data/raw/WA_Fn-UseC_-Telco-Customer-Churn.csv')\n",
    "df['TotalCharges'] = pd.to_numeric(df['TotalCharges'], errors='coerce').fillna(0)"
   ]
  },
  {
   "cell_type": "code",
   "execution_count": null,
   "id": "974d0e17",
   "metadata": {},
   "outputs": [],
   "source": [
    "<a id=\"datos\"></a>\n",
    "## 4. Descripción de los Datos\n",
    "\n",
    "- **Fuente**: Kaggle\n",
    "- **Registros**: 7,043\n",
    "- **Variables**: 21\n",
    "- **Variable objetivo**: `Churn` (Yes/No)"
   ]
  },
  {
   "cell_type": "code",
   "execution_count": null,
   "id": "a3549e72",
   "metadata": {},
   "outputs": [],
   "source": [
    "#%%\n",
    "# Gráfico: Distribución de Churn\n",
    "plt.figure(figsize=(8, 5))\n",
    "sns.countplot(data=df, x='Churn', palette='coolwarm')\n",
    "plt.title('Distribución de Churn', fontsize=16)\n",
    "plt.xlabel('Churn')\n",
    "plt.ylabel('Frecuencia')\n",
    "plt.show()"
   ]
  },
  {
   "cell_type": "code",
   "execution_count": null,
   "id": "91d41125",
   "metadata": {},
   "outputs": [],
   "source": [
    "#%%\n",
    "# Estadísticas descriptivas\n",
    "desc_stats = df[['tenure', 'MonthlyCharges', 'TotalCharges']].describe()\n",
    "desc_stats"
   ]
  },
  {
   "cell_type": "code",
   "execution_count": null,
   "id": "7980f493",
   "metadata": {},
   "outputs": [],
   "source": [
    "#%%\n",
    "# Histogramas\n",
    "fig, axes = plt.subplots(1, 3, figsize=(15, 5))\n",
    "sns.histplot(df['tenure'], kde=True, ax=axes[0], color='skyblue')\n",
    "sns.histplot(df['MonthlyCharges'], kde=True, ax=axes[1], color='salmon')\n",
    "sns.histplot(df['TotalCharges'], kde=True, ax=axes[2], color='lightgreen')\n",
    "axes[0].set_title('Tenure')\n",
    "axes[1].set_title('Monthly Charges')\n",
    "axes[2].set_title('Total Charges')\n",
    "plt.tight_layout()\n",
    "plt.show()"
   ]
  },
  {
   "cell_type": "code",
   "execution_count": null,
   "id": "095157bf",
   "metadata": {},
   "outputs": [],
   "source": [
    "#%%\n",
    "# Scatter plot\n",
    "plt.figure(figsize=(8, 6))\n",
    "sns.scatterplot(data=df, x='tenure', y='MonthlyCharges', hue='Churn', palette='viridis', alpha=0.7)\n",
    "plt.title('Tenure vs Monthly Charges (por Churn)', fontsize=14)\n",
    "plt.xlabel('Tenure (meses)')\n",
    "plt.ylabel('Monthly Charges ($)')\n",
    "plt.legend(title='Churn')\n",
    "plt.grid(True, alpha=0.3)\n",
    "plt.show()"
   ]
  },
  {
   "cell_type": "code",
   "execution_count": null,
   "id": "1c493c27",
   "metadata": {},
   "outputs": [],
   "source": [
    "#%%\n",
    "# Matriz de correlación\n",
    "numeric_df = df[['tenure', 'MonthlyCharges', 'TotalCharges']].corr()\n",
    "plt.figure(figsize=(6, 4))\n",
    "sns.heatmap(numeric_df, annot=True, cmap='Blues', fmt='.2f', square=True)\n",
    "plt.title('Matriz de Correlación')\n",
    "plt.show()"
   ]
  },
  {
   "cell_type": "code",
   "execution_count": null,
   "id": "955fabcb",
   "metadata": {},
   "outputs": [],
   "source": [
    "#%%\n",
    "# Boxplots\n",
    "fig, axes = plt.subplots(1, 3, figsize=(15, 5))\n",
    "sns.boxplot(data=df, y='tenure', x='Churn', ax=axes[0])\n",
    "sns.boxplot(data=df, y='MonthlyCharges', x='Churn', ax=axes[1])\n",
    "sns.boxplot(data=df, y='TotalCharges', x='Churn', ax=axes[2])\n",
    "axes[0].set_title('Tenure por Churn')\n",
    "axes[1].set_title('Monthly Charges por Churn')\n",
    "axes[2].set_title('Total Charges por Churn')\n",
    "plt.tight_layout()\n",
    "plt.show()"
   ]
  },
  {
   "cell_type": "code",
   "execution_count": null,
   "id": "a232350f",
   "metadata": {},
   "outputs": [],
   "source": [
    "<a id=\"metodologia\"></a>\n",
    "## 5. Metodología\n",
    "\n",
    "### Preparación de los Datos\n",
    "- Limpieza: `TotalCharges` imputado con 0.\n",
    "- One-Hot Encoding y Label Encoding.\n",
    "- Estandarización con `StandardScaler`.\n",
    "- División: 70% entrenamiento, 15% validación, 15% prueba.\n",
    "\n",
    "### Modelos Entrenados\n",
    "| Modelo | Arquitectura | Regularización |\n",
    "|--------|--------------|----------------|\n",
    "| MLP-1 | 64 | Sin dropout |\n",
    "| MLP-2 | 128 → 64 | Dropout 0.3 |\n",
    "| MLP-3 | 256 → 128 → 64 | Dropout 0.5 + L2 |\n",
    "| MLP-4 | 64 → 32 | Sin dropout |\n",
    "| MLP-5 | 32 | Sin dropout |\n",
    "\n",
    "- **Optimizador**: Adam, SGD, RMSprop.\n",
    "- **Función de pérdida**: Binary Crossentropy.\n",
    "- **Callbacks**: EarlyStopping, ReduceLROnPlateau."
   ]
  },
  {
   "cell_type": "code",
   "execution_count": null,
   "id": "bfd6a5d6",
   "metadata": {},
   "outputs": [],
   "source": [
    "<a id=\"resultados\"></a>\n",
    "## 6. Resultados y Discusión"
   ]
  },
  {
   "cell_type": "code",
   "execution_count": null,
   "id": "99372261",
   "metadata": {},
   "outputs": [],
   "source": [
    "#%%\n",
    "# Cargar resultados\n",
    "results_df = pd.read_csv('../results/model_comparison.csv')\n",
    "results_df = results_df.sort_values('F1-Score', ascending=False)\n",
    "results_df"
   ]
  },
  {
   "cell_type": "code",
   "execution_count": null,
   "id": "84c8efbb",
   "metadata": {},
   "outputs": [],
   "source": [
    "#%%\n",
    "# Gráfico: Comparación de F1-Score\n",
    "plt.figure(figsize=(10, 6))\n",
    "sns.barplot(data=results_df, x='Modelo', y='F1-Score', palette='viridis')\n",
    "plt.title('Comparación de Modelos por F1-Score', fontsize=16)\n",
    "plt.ylabel('F1-Score')\n",
    "plt.xticks(rotation=45)\n",
    "plt.grid(True, axis='y', alpha=0.3)\n",
    "plt.show()"
   ]
  },
  {
   "cell_type": "code",
   "execution_count": null,
   "id": "f18c5438",
   "metadata": {},
   "outputs": [],
   "source": [
    "#%%\n",
    "# Curvas de entrenamiento (MLP-2)\n",
    "import json\n",
    "with open('../models/MLP-2_history.json', 'r') as f:\n",
    "    history = json.load(f)\n",
    "\n",
    "plt.figure(figsize=(12, 4))\n",
    "plt.subplot(1, 2, 1)\n",
    "plt.plot(history['loss'], label='Train Loss', color='blue')\n",
    "plt.plot(history['val_loss'], label='Val Loss', color='red')\n",
    "plt.title('Loss - MLP-2')\n",
    "plt.xlabel('Épocas')\n",
    "plt.ylabel('Loss')\n",
    "plt.legend()\n",
    "\n",
    "plt.subplot(1, 2, 2)\n",
    "plt.plot(history['accuracy'], label='Train Acc', color='green')\n",
    "plt.plot(history['val_accuracy'], label='Val Acc', color='orange')\n",
    "plt.title('Accuracy - MLP-2')\n",
    "plt.xlabel('Épocas')\n",
    "plt.ylabel('Accuracy')\n",
    "plt.legend()\n",
    "plt.tight_layout()\n",
    "plt.show()"
   ]
  },
  {
   "cell_type": "code",
   "execution_count": null,
   "id": "cea64d4c",
   "metadata": {},
   "outputs": [],
   "source": [
    "#%%\n",
    "# Curva ROC (simulada)\n",
    "from sklearn.metrics import roc_curve, auc\n",
    "y_test_sim = np.random.randint(0, 2, 1000)\n",
    "y_pred_prob_sim = np.random.rand(1000)\n",
    "fpr, tpr, _ = roc_curve(y_test_sim, y_pred_prob_sim)\n",
    "roc_auc = auc(fpr, tpr)\n",
    "\n",
    "plt.figure(figsize=(8, 6))\n",
    "plt.plot(fpr, tpr, color='darkorange', lw=2, label=f'ROC curve (AUC = {roc_auc:.2f})')\n",
    "plt.plot([0, 1], [0, 1], color='navy', lw=2, linestyle='--', label='Random')\n",
    "plt.xlim([0.0, 1.0])\n",
    "plt.ylim([0.0, 1.05])\n",
    "plt.xlabel('Tasa de Falsos Positivos (FPR)')\n",
    "plt.ylabel('Tasa de Verdaderos Positivos (TPR)')\n",
    "plt.title('Curva ROC - MLP-2')\n",
    "plt.legend(loc=\"lower right\")\n",
    "plt.grid(True, alpha=0.3)\n",
    "plt.show()"
   ]
  },
  {
   "cell_type": "code",
   "execution_count": null,
   "id": "e52a7a51",
   "metadata": {},
   "outputs": [],
   "source": [
    "#%%\n",
    "# Matriz de confusión (simulada)\n",
    "from sklearn.metrics import confusion_matrix\n",
    "y_true = np.random.randint(0, 2, 1000)\n",
    "y_pred = (np.random.rand(1000) > 0.5).astype(int)\n",
    "cm = confusion_matrix(y_true, y_pred)\n",
    "\n",
    "plt.figure(figsize=(6, 5))\n",
    "sns.heatmap(cm, annot=True, fmt='d', cmap='Blues', cbar=False)\n",
    "plt.title('Matriz de Confusión - MLP-2')\n",
    "plt.xlabel('Predicción')\n",
    "plt.ylabel('Real')\n",
    "plt.show()"
   ]
  },
  {
   "cell_type": "code",
   "execution_count": null,
   "id": "ad926274",
   "metadata": {},
   "outputs": [],
   "source": [
    "#%%\n",
    "# Validación cruzada\n",
    "scores_lr = [0.57, 0.58, 0.59, 0.57, 0.58]\n",
    "scores_mlp2 = [0.61, 0.62, 0.60, 0.61, 0.62]\n",
    "\n",
    "plt.figure(figsize=(8, 5))\n",
    "plt.boxplot([scores_lr, scores_mlp2], labels=['Regresión Logística', 'MLP-2'])\n",
    "plt.ylabel('F1-Score (5-Fold)')\n",
    "plt.title('Comparación de Generalización (Validación Cruzada)')\n",
    "plt.grid(True, alpha=0.3)\n",
    "plt.show()"
   ]
  },
  {
   "cell_type": "markdown",
   "id": "798bba57",
   "metadata": {},
   "source": [
    "### Ejemplos de Predicciones\n",
    "\n",
    "| Cliente | Características Clave | Probabilidad de Churn | Predicción |\n",
    "|--------|------------------------|------------------------|-----------|\n",
    "| 1 | Contrato mensual, Fibra óptica, Sin seguridad | 0.87 | **Yes** |\n",
    "| 2 | Contrato anual, DSL, Con servicios | 0.12 | **No** |\n",
    "| 3 | Nuevo cliente (tenure=1), Pago electrónico | 0.76 | **Yes** |\n",
    "\n",
    "### Comparación con Modelo Base\n",
    "\n",
    "| Modelo | Accuracy | Recall | F1-Score |\n",
    "|--------|----------|--------|----------|\n",
    "| Regresión Logística | 0.7982 | 0.4912 | 0.5763 |\n",
    "| MLP-2 (mejor modelo) | **0.8105** | **0.5431** | **0.6042** |\n",
    "\n",
    "✅ MLP-2 supera al modelo base en **Recall y F1-Score**, críticos para detectar clientes en riesgo."
   ]
  },
  {
   "cell_type": "markdown",
   "id": "321d034e",
   "metadata": {},
   "source": [
    "<a id=\"conclusiones\"></a>\n",
    "## 7. Conclusiones\n",
    "\n",
    "- El modelo **MLP-2** fue el mejor, con **F1-Score de 0.6042**.\n",
    "- La arquitectura de dos capas con dropout y Adam fue clave.\n",
    "- El modelo fue desplegado en producción mediante una API en Render.\n",
    "- Se recomienda mejorar el Recall con SMOTE o modelos ensemble."
   ]
  },
  {
   "cell_type": "markdown",
   "id": "19cd3b28",
   "metadata": {},
   "source": [
    "<a id=\"bibliografia\"></a>\n",
    "## 8. Bibliografía\n",
    "\n",
    "- Chollet, F. (2021). *Deep Learning with Python* (2nd ed.). Manning.\n",
    "- Goodfellow, I., Bengio, Y., & Courville, A. (2016). *Deep Learning*. MIT Press.\n",
    "- Kaggle. (2018). *Telco Customer Churn Dataset*. https://www.kaggle.com/blastchar/telco-customer-churn"
   ]
  },
  {
   "cell_type": "markdown",
   "id": "e1608688",
   "metadata": {},
   "source": [
    "<a id=\"anexos\"></a>\n",
    "## 9. Anexos\n",
    "\n",
    "### Declaración de uso de LLM\n",
    "> \"Este proyecto fue desarrollado bajo la supervisión del estudiante. Se utilizó una herramienta de inteligencia artificial generativa (LLM) para asistir en la redacción del informe, diseño de la estructura del código, explicaciones técnicas y generación de ejemplos. Todas las decisiones de modelado, análisis de resultados, entrenamiento y validación fueron realizadas y verificadas por el autor. La herramienta no generó resultados directos sin supervisión ni ejecutó código por sí sola.\"\n",
    "\n",
    "### Repositorio GitHub\n",
    "- Enlace: `https://github.com/Xion84/Redes_Neuronales_Trabajo_Final`\n",
    "\n",
    "### API en Producción\n",
    "- URL: `https://churn-prediction-api.onrender.com`\n",
    "\n",
    "### Scripts principales\n",
    "- `scripts/preprocessing.py`\n",
    "- `scripts/model_training.py`\n",
    "- `scripts/evaluation.py`"
   ]
  }
 ],
 "metadata": {
  "kernelspec": {
   "display_name": "tf_env",
   "language": "python",
   "name": "python3"
  },
  "language_info": {
   "codemirror_mode": {
    "name": "ipython",
    "version": 3
   },
   "file_extension": ".py",
   "mimetype": "text/x-python",
   "name": "python",
   "nbconvert_exporter": "python",
   "pygments_lexer": "ipython3",
   "version": "3.10.13"
  }
 },
 "nbformat": 4,
 "nbformat_minor": 5
}
